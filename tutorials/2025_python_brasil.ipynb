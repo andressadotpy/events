{
 "cells": [
  {
   "cell_type": "markdown",
   "id": "cf8ad56f-78d5-44a9-ab7a-ce2291c143a8",
   "metadata": {},
   "source": [
    "# Conteúdo do Tutorial\n",
    "\n",
    "- O que é Agile Testing (Quadrantes de testes + testes E2E + testes de regressão)\n",
    "- O que é Playwright, python-playwright e pytest-playwright\n",
    "- Instalando Playwright\n",
    "- O que é Playwright Codegen\n",
    "- Hands on: Navegando no [UI testing Playground](http://uitestingplayground.com/) usando Playwright Codegen\n",
    "- O que é o Pytest\n",
    "- Hands on: Criando um conjunto simples de testes E2E\n",
    "- O que são Pytest Fixtures\n",
    "- Hands on: Refatorar o conjunto de testes para usar fixtures\n",
    "- O que é Pytest Parametrization\n",
    "- Hands on: Refatorar o conjunto de testes para usar parametrização\n",
    "- Criando um Plugin para o Pytest\n",
    "- Hands on: Criando um Pytest Plugin para nossas Fixtures\n",
    "- Explorando Plugins para o Pytest\n",
    "- Hands on: Instalando e utilizando Pytest Plugins\n",
    "- CI/CD"
   ]
  },
  {
   "cell_type": "markdown",
   "id": "2ccd7142-1a65-45b1-98da-6e8f6f63ae3d",
   "metadata": {},
   "source": [
    "# Agile Testing\n",
    "\n",
    "## Agile Testing Quadrants\n",
    "\n",
    "![Agile Testing Quadrants](../images/agile_quadrants.png \"Os quadrantes do Agile Testing\")\n",
    "\n",
    "Os testes nos quadrantes 1 e 2 são escritos para ajudar o time a entregar um produto que corresponda ao valor esperado pelos clientes.\n",
    "Os testes no quadrantes 3 e 4 são realizados para *criticar* o produto. \"Criticar\" não carrega uma conotação negativa aqui, mas sim de fazer uma revisão do software para aprender formas que o produto pode ser melhorado.\n",
    "\n",
    "### Q1\n",
    "> \"Measures the internal quality of the code\", Kent Beck\n",
    "\n",
    "Dão suporte ao time **ajudando os programadores** a escreverem código com confiança sem a preocupação de estarem fazendo alterações que quebram outras partes do sistema. Um Product Manager sem experiência técnica não seria capaz de entender os testes unitários ou de componentes porque eles não são feitos para o time de *Business* ou para o cliente usar como documentação.\n",
    "\n",
    "Nesse quadrante é onde acontece a famosa metodologia **Test Driven Development (TDD)**.\n",
    "São testes que dão *quick feedback* e são rodados antes do código ser *merged* na branch *main*.\n",
    "\n",
    "### Q2\n",
    "Dão suporte ao time fazendo com que o time desenvolva as features de forma alinhada com o negócio. Os testes que estão nesse quadrante vêm de exemplos dados pelo time de negócios. \n",
    "\n",
    "É aqui que acontece a famosa metodologia **Business Driven Development (BDD)**.\n",
    "São testes que dão *quick feedback* e são rodados sempre depois de novo código de desenvolvimento ser *merged*, mas num ambiente pre-prod.\n",
    "\n",
    "### Q3\n",
    "São testes que são feitos do ponto de vista do negócio e que servem para avaliar se o software está funcionando de acordo com o especificado ou até se o software está de acordo com o da competição. Quando esses testes são executados se tenta simular o jeito que o usuário iria utilizar o software. Exemplo aqui são testes exploratórios e testes de usabilidade.\n",
    "\n",
    "### Q4\n",
    "São testes que usam ferramentas diversas para analisar o produto e são discutidos em termos técnicos e não de negócios. Aqui entram testes de performance, segurança, carga, etc. \n",
    "\n",
    "# Bibliografia\n",
    "**Agile Testing: A Practical Guide for Testers and Agile Teams**, autora Lisa Crispin"
   ]
  },
  {
   "cell_type": "code",
   "execution_count": null,
   "id": "a9e6ec1b-ab8d-4ca1-88ad-842165a786a2",
   "metadata": {},
   "outputs": [],
   "source": []
  }
 ],
 "metadata": {
  "kernelspec": {
   "display_name": "Python 3 (ipykernel)",
   "language": "python",
   "name": "python3"
  },
  "language_info": {
   "codemirror_mode": {
    "name": "ipython",
    "version": 3
   },
   "file_extension": ".py",
   "mimetype": "text/x-python",
   "name": "python",
   "nbconvert_exporter": "python",
   "pygments_lexer": "ipython3",
   "version": "3.12.10"
  }
 },
 "nbformat": 4,
 "nbformat_minor": 5
}
